{
 "cells": [
  {
   "cell_type": "markdown",
   "metadata": {},
   "source": [
    "Dado que la relación entre las magnitudes y los flujos de dos estrellas está dado por\n",
    "\n",
    "$$m_1 - m_2 = -2.5log\\left(\\frac{F_1}{F_2}\\right),$$\n",
    "\n",
    "Sin embargo téngase en cuenta que debido a que el flujo de una cantidad depende del inverso del cuadrado de la distancia, se tiene que la razón de un flujo a una distancia $r$, con un flujo a una distancia de 10 parsecs es $\\frac{F\\left(r\\right)}{F\\left(10\\right)} =  \\left(\\frac{10}{r}\\right)^2$.\n",
    "\n",
    "\n",
    "Tomemos ahora $m_1 = m_v$ como la magnitud visual aparente y $m_2=M$ como la magnitud absoluta de un objeto, se tiene entonces que la diferencia de dichas magnitudes está dada por\n",
    "\n",
    "\n",
    "\\begin{align}\n",
    "m_v - M &= -2.5log_{10}\\left(\\frac{F\\left(r\\right)}{F\\left(10\\right)}\\right) \\\\\n",
    "&= -2.5log_{10}\\left[\\left(\\frac{10}{r}\\right)^2\\right]\\\\\n",
    "&= -5\\left[log_{10}10 - log_{10}\\left(r\\right)\\right]\\\\\n",
    "&= -5 + 5log_{10}r.\n",
    "\\end{align}\n",
    "\n",
    "Si se conoce la magnitud visual aparente y la distancia a la cuál de encuentra el objeto con respecto al observador que la mide, se tiene entonces que la magnitud absoluta está dada por \n",
    "\n",
    "$$ M = m_v - 5log_{10}r + 5.$$\n",
    "\n",
    "Por supuesto que para que la cantidad a la cuál se toma el logaritmo sea adimensional, se debe de tener que $[r]=parsec$.\n",
    "\n",
    "Nótese sin embargo que la forma general de la expresión anterior es \n",
    "\n",
    "$$ M = m_v - 5log_{10}r + 5 + A,$$\n",
    "\n",
    "en donde $A$ es el factor de extinción.\n",
    "\n",
    "En el caso Sol-Tierra se puede tomar $A=0$ puesto que la cantidad de gas y polvo entre estos dos objetos es tan pequeña que la absorción y disperción de la luz proveniente del Sol y causada por los mismos es casi nula, de hecho, la densidad del espacio entre el Sol y la Tierra es menor a 5 partículas por centímetro cúbico (https://www.universetoday.com/34074/interplanetary-space/)."
   ]
  },
  {
   "cell_type": "code",
   "execution_count": 40,
   "metadata": {},
   "outputs": [
    {
     "name": "stdout",
     "output_type": "stream",
     "text": [
      "Magnitud absoluta = 4.82\n"
     ]
    }
   ],
   "source": [
    "#Caso del Sol y un observador en la Tierra\n",
    "import math\n",
    "mv = -26.75;    r=1.; #Distancia en UA\n",
    "theta = math.pi/(180*3600) #Ángulo en radianes\n",
    "d = r*math.tan(theta); #distancia en parsecs\n",
    "M = mv - 5*math.log10(d) + 5 \n",
    "print(\"Magnitud absoluta =\", round(M,2))"
   ]
  },
  {
   "cell_type": "markdown",
   "metadata": {},
   "source": [
    "La relación entre la velocidad de la luz ($c$) en el vacío y la frecuencia ($\\nu$) de esta está dada por\n",
    "\n",
    "$$c = \\lambda \\nu,$$\n",
    "\n",
    "en donde $\\lambda$ es la longitud de onda.\n",
    "\n",
    "Es importante tener en cuenta que $c$ es constante, $c=3\\times 10^6 \\frac{m}{s}$.\n",
    "\n",
    "Nótese además que $\\left[\\nu\\right] = \\frac{1}{s} = Hz.$"
   ]
  },
  {
   "cell_type": "code",
   "execution_count": 1,
   "metadata": {},
   "outputs": [
    {
     "name": "stdout",
     "output_type": "stream",
     "text": [
      "Esciba alguna de las siguientes: \n",
      "milímetros\n",
      "micras\n",
      "nanómetros\n",
      "amstrongs\n",
      "¿En que unidades está la longitud de onda?   amstrongs\n"
     ]
    }
   ],
   "source": [
    "print(\"Esciba alguna de las siguientes: \")\n",
    "print (\"milímetros\")\n",
    "print (\"micras\")\n",
    "print (\"nanómetros\")\n",
    "print (\"amstrongs\")\n",
    "un = input(\"¿En que unidades está la longitud de onda?   \")\n"
   ]
  },
  {
   "cell_type": "code",
   "execution_count": 2,
   "metadata": {
    "scrolled": true
   },
   "outputs": [
    {
     "name": "stdout",
     "output_type": "stream",
     "text": [
      "¿Cuántos nanómetros? 0.1\n"
     ]
    }
   ],
   "source": [
    "x = 0\n",
    "if (un == \"milímetros\"):\n",
    "    x = 10**(-3)\n",
    "    v = input (\"¿Cuántos milímetros? \")\n",
    "elif(un == \"micras\"):\n",
    "    x = 10**(-6)\n",
    "    v = input (\"¿Cuántas micras? \")\n",
    "elif(un == \"nanómetros\"):\n",
    "    x = 10**(-9)\n",
    "    v = input (\"¿Cuántos nanómetros? \")\n",
    "elif(un == \"amstrongs\"):\n",
    "    x = 10**(-10)\n",
    "    v = input (\"¿Cuántos amstrongs? \")\n",
    "else:\n",
    "    print(\"Error\")"
   ]
  },
  {
   "cell_type": "code",
   "execution_count": 3,
   "metadata": {},
   "outputs": [
    {
     "name": "stdout",
     "output_type": "stream",
     "text": [
      "La frecuencia asociada a 0.1 amstrongs es 3.00e+19 Hz\n"
     ]
    }
   ],
   "source": [
    "v = float(v)#Cambiar el tipo de variabl a float\n",
    "c = 3.*10**8;# Velocidad de la luz en el vacío en m/s\n",
    "lam = x*v\n",
    "nu = c/(lam)\n",
    "\n",
    "print (\"La frecuencia asociada a\", v, un, \"es\", \"{:.2e}\".format(nu), \"Hz\" )"
   ]
  },
  {
   "cell_type": "code",
   "execution_count": null,
   "metadata": {},
   "outputs": [],
   "source": []
  }
 ],
 "metadata": {
  "kernelspec": {
   "display_name": "Python 3",
   "language": "python",
   "name": "python3"
  },
  "language_info": {
   "codemirror_mode": {
    "name": "ipython",
    "version": 3
   },
   "file_extension": ".py",
   "mimetype": "text/x-python",
   "name": "python",
   "nbconvert_exporter": "python",
   "pygments_lexer": "ipython3",
   "version": "3.7.6"
  }
 },
 "nbformat": 4,
 "nbformat_minor": 4
}
