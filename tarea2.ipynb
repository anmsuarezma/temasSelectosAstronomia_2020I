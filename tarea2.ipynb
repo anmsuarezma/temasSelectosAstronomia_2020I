{
 "cells": [
  {
   "cell_type": "markdown",
   "metadata": {},
   "source": [
    "# Tarea 2\n",
    "\n",
    "## Fotometría"
   ]
  },
  {
   "cell_type": "markdown",
   "metadata": {},
   "source": [
    "![alt text](telescope.png \"Title\")"
   ]
  },
  {
   "cell_type": "markdown",
   "metadata": {},
   "source": [
    "Suponga que la distancia del observable de un telescopio al eje focal es $f$, mientras que la distancia desde el ocular hasta el eje focal es $f'$. Es posible mostrar que la magnificación o aumento $\\omega$ de tal instrumento está dado por \n",
    "\n",
    "$$\\omega = \\frac{f}{f'}.\\qquad \\left(1\\right)$$\n",
    "\n",
    "Por otro lado, si la apertura del telescopio o diámetro del observable es $D$, la razón de apertura está dada por\n",
    "\n",
    "$$F = \\frac{f}{D}.\\qquad \\left(2\\right)$$\n"
   ]
  },
  {
   "cell_type": "markdown",
   "metadata": {},
   "source": [
    "## Ejercicio 1\n",
    "\n"
   ]
  },
  {
   "cell_type": "code",
   "execution_count": 8,
   "metadata": {},
   "outputs": [
    {
     "name": "stdout",
     "output_type": "stream",
     "text": [
      "El aumento es  97.6923076923077\n"
     ]
    }
   ],
   "source": [
    "n = 10; #f/n\n",
    "D = 10 #En pulgadas\n",
    "Dmm = 25.4*D;\n",
    "fprima = 26; f = n*Dmm\n",
    "omega = f/fprima\n",
    "print(\"El aumento es \", omega)"
   ]
  },
  {
   "cell_type": "markdown",
   "metadata": {},
   "source": [
    "## Ejercicio 2\n",
    "\n",
    "Puede mostrarse que dado el diámetro angular $\\alpha$ y la distancia focal $f$ de un telescopio, el tamaño de la imagen $s$ está dado por\n",
    "\n",
    "$$tan\\left(\\alpha\\right) = \\frac{s}{f}.\\qquad \\left(3\\right)$$\n",
    "\n",
    "Para encontrar la relación anterior tenga en cuenta el triángulo rectángulo mostrado en la figura anterior cuyos catetos son $s$ y $f$."
   ]
  },
  {
   "cell_type": "code",
   "execution_count": 9,
   "metadata": {},
   "outputs": [
    {
     "name": "stdout",
     "output_type": "stream",
     "text": [
      "El tamaño de la imagen es   5.39E-01 mm 2540.0\n"
     ]
    }
   ],
   "source": [
    "# Datos tomados de https://in-the-sky.org/news.php?id=20180509_12_100\n",
    "import numpy as np\n",
    "alpha = 43.8 # Diámetro angular en arcsc\n",
    "alpha = alpha * np.pi/(180*3600) #diámetro angular en radianes\n",
    "#alpha = alpha/(3600) #diámetro angular en grados\n",
    "s = f*np.tan(alpha)\n",
    "print(\"El tamaño de la imagen es\",format(s,\"10.2E\"),\"mm\",f)"
   ]
  },
  {
   "cell_type": "markdown",
   "metadata": {},
   "source": [
    "# Ejercicio 3\n",
    "\n",
    "La magnitud visual límite está dada por la expresión (dada en clase)\n",
    "\n",
    "$$m_{lim} = 5\\log D +1.\\qquad \\left(4\\right)$$"
   ]
  },
  {
   "cell_type": "code",
   "execution_count": 4,
   "metadata": {},
   "outputs": [
    {
     "name": "stdout",
     "output_type": "stream",
     "text": [
      "La magnitud visual límite para el telescopio es  13.02\n",
      "254.0\n"
     ]
    }
   ],
   "source": [
    "mLim = 5*np.log10(Dmm) + 1\n",
    "print(\"La magnitud visual límite para el telescopio es \", round(mLim,2))\n",
    "print(Dmm)"
   ]
  },
  {
   "cell_type": "code",
   "execution_count": null,
   "metadata": {},
   "outputs": [],
   "source": []
  }
 ],
 "metadata": {
  "kernelspec": {
   "display_name": "Python 3",
   "language": "python",
   "name": "python3"
  },
  "language_info": {
   "codemirror_mode": {
    "name": "ipython",
    "version": 3
   },
   "file_extension": ".py",
   "mimetype": "text/x-python",
   "name": "python",
   "nbconvert_exporter": "python",
   "pygments_lexer": "ipython3",
   "version": "3.7.6"
  }
 },
 "nbformat": 4,
 "nbformat_minor": 2
}
